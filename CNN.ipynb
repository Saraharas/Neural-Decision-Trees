{
 "cells": [
  {
   "cell_type": "code",
   "execution_count": 14,
   "metadata": {},
   "outputs": [],
   "source": [
    "from __future__ import print_function\n",
    "import keras\n",
    "from keras.datasets import mnist\n",
    "from keras.models import Sequential\n",
    "from keras.layers import Dense, Dropout, Flatten\n",
    "from keras.layers import Conv2D, MaxPooling2D\n",
    "from keras import backend as K\n",
    "import tensorflow as ts\n",
    "from tensorflow.examples.tutorials.mnist import input_data"
   ]
  },
  {
   "cell_type": "code",
   "execution_count": 16,
   "metadata": {},
   "outputs": [
    {
     "name": "stdout",
     "output_type": "stream",
     "text": [
      "Extracting ./Neural-Decision-Trees/MNIST_data/train-images-idx3-ubyte.gz\n",
      "Extracting ./Neural-Decision-Trees/MNIST_data/train-labels-idx1-ubyte.gz\n",
      "Extracting ./Neural-Decision-Trees/MNIST_data/t10k-images-idx3-ubyte.gz\n",
      "Extracting ./Neural-Decision-Trees/MNIST_data/t10k-labels-idx1-ubyte.gz\n"
     ]
    }
   ],
   "source": [
    "mnist = input_data.read_data_sets(\"./MNIST_data/\", one_hot=False)\n",
    "x_train = np.vstack([img.reshape(-1,) for img in mnist.train.images])\n",
    "y_train = mnist.train.labels\n",
    "x_test = np.vstack([img.reshape(-1,) for img in mnist.test.images])\n",
    "y_test = mnist.test.labels"
   ]
  },
  {
   "cell_type": "code",
   "execution_count": 17,
   "metadata": {},
   "outputs": [
    {
     "name": "stdout",
     "output_type": "stream",
     "text": [
      "x_train shape: (55000, 28, 28, 1)\n",
      "55000 train samples\n",
      "10000 test samples\n",
      "Train on 55000 samples, validate on 10000 samples\n",
      "Epoch 1/12\n",
      "13568/55000 [======>.......................] - ETA: 32:07 - loss: 2.3026 - acc: 0.07 - ETA: 25:58 - loss: 2.3027 - acc: 0.08 - ETA: 23:34 - loss: 2.3023 - acc: 0.09 - ETA: 22:31 - loss: 2.3023 - acc: 0.09 - ETA: 21:46 - loss: 2.3024 - acc: 0.10 - ETA: 21:19 - loss: 2.3025 - acc: 0.09 - ETA: 20:45 - loss: 2.3025 - acc: 0.10 - ETA: 20:29 - loss: 2.3025 - acc: 0.10 - ETA: 20:38 - loss: 2.3025 - acc: 0.10 - ETA: 20:30 - loss: 2.3023 - acc: 0.10 - ETA: 20:26 - loss: 2.3019 - acc: 0.10 - ETA: 20:20 - loss: 2.3020 - acc: 0.10 - ETA: 20:12 - loss: 2.3019 - acc: 0.10 - ETA: 20:07 - loss: 2.3024 - acc: 0.10 - ETA: 19:57 - loss: 2.3024 - acc: 0.10 - ETA: 19:49 - loss: 2.3023 - acc: 0.10 - ETA: 19:38 - loss: 2.3023 - acc: 0.10 - ETA: 19:29 - loss: 2.3021 - acc: 0.10 - ETA: 19:22 - loss: 2.3023 - acc: 0.10 - ETA: 19:16 - loss: 2.3024 - acc: 0.10 - ETA: 19:07 - loss: 2.3025 - acc: 0.10 - ETA: 19:04 - loss: 2.3024 - acc: 0.10 - ETA: 19:01 - loss: 2.3022 - acc: 0.10 - ETA: 18:57 - loss: 2.3018 - acc: 0.11 - ETA: 18:57 - loss: 2.3018 - acc: 0.10 - ETA: 19:20 - loss: 2.3016 - acc: 0.11 - ETA: 19:36 - loss: 2.3015 - acc: 0.11 - ETA: 19:37 - loss: 2.3015 - acc: 0.10 - ETA: 19:33 - loss: 2.3013 - acc: 0.11 - ETA: 19:28 - loss: 2.3013 - acc: 0.11 - ETA: 19:23 - loss: 2.3014 - acc: 0.11 - ETA: 19:21 - loss: 2.3016 - acc: 0.10 - ETA: 19:15 - loss: 2.3018 - acc: 0.10 - ETA: 19:13 - loss: 2.3020 - acc: 0.10 - ETA: 19:12 - loss: 2.3021 - acc: 0.10 - ETA: 19:07 - loss: 2.3022 - acc: 0.10 - ETA: 19:04 - loss: 2.3022 - acc: 0.10 - ETA: 19:01 - loss: 2.3021 - acc: 0.10 - ETA: 18:58 - loss: 2.3020 - acc: 0.10 - ETA: 18:55 - loss: 2.3019 - acc: 0.10 - ETA: 18:54 - loss: 2.3021 - acc: 0.10 - ETA: 18:58 - loss: 2.3021 - acc: 0.10 - ETA: 18:56 - loss: 2.3021 - acc: 0.10 - ETA: 18:56 - loss: 2.3021 - acc: 0.10 - ETA: 18:56 - loss: 2.3021 - acc: 0.10 - ETA: 18:54 - loss: 2.3021 - acc: 0.10 - ETA: 18:58 - loss: 2.3022 - acc: 0.10 - ETA: 19:04 - loss: 2.3022 - acc: 0.10 - ETA: 19:10 - loss: 2.3022 - acc: 0.10 - ETA: 19:15 - loss: 2.3022 - acc: 0.10 - ETA: 19:18 - loss: 2.3022 - acc: 0.10 - ETA: 19:23 - loss: 2.3023 - acc: 0.10 - ETA: 19:26 - loss: 2.3022 - acc: 0.10 - ETA: 19:28 - loss: 2.3022 - acc: 0.10 - ETA: 19:33 - loss: 2.3023 - acc: 0.10 - ETA: 19:35 - loss: 2.3022 - acc: 0.10 - ETA: 19:36 - loss: 2.3023 - acc: 0.10 - ETA: 19:37 - loss: 2.3023 - acc: 0.10 - ETA: 19:39 - loss: 2.3022 - acc: 0.10 - ETA: 19:42 - loss: 2.3022 - acc: 0.10 - ETA: 19:43 - loss: 2.3022 - acc: 0.10 - ETA: 19:44 - loss: 2.3022 - acc: 0.10 - ETA: 19:48 - loss: 2.3021 - acc: 0.10 - ETA: 19:52 - loss: 2.3020 - acc: 0.10 - ETA: 19:50 - loss: 2.3020 - acc: 0.10 - ETA: 19:44 - loss: 2.3019 - acc: 0.10 - ETA: 19:38 - loss: 2.3019 - acc: 0.10 - ETA: 19:32 - loss: 2.3018 - acc: 0.10 - ETA: 19:26 - loss: 2.3018 - acc: 0.10 - ETA: 19:24 - loss: 2.3017 - acc: 0.10 - ETA: 19:26 - loss: 2.3018 - acc: 0.10 - ETA: 19:27 - loss: 2.3019 - acc: 0.11 - ETA: 19:28 - loss: 2.3019 - acc: 0.10 - ETA: 19:28 - loss: 2.3019 - acc: 0.10 - ETA: 19:28 - loss: 2.3018 - acc: 0.11 - ETA: 19:29 - loss: 2.3019 - acc: 0.11 - ETA: 19:29 - loss: 2.3019 - acc: 0.10 - ETA: 19:29 - loss: 2.3019 - acc: 0.10 - ETA: 19:28 - loss: 2.3018 - acc: 0.10 - ETA: 19:27 - loss: 2.3019 - acc: 0.10 - ETA: 19:26 - loss: 2.3019 - acc: 0.10 - ETA: 19:25 - loss: 2.3019 - acc: 0.10 - ETA: 19:25 - loss: 2.3020 - acc: 0.10 - ETA: 19:25 - loss: 2.3019 - acc: 0.10 - ETA: 19:28 - loss: 2.3019 - acc: 0.10 - ETA: 19:31 - loss: 2.3020 - acc: 0.10 - ETA: 19:30 - loss: 2.3020 - acc: 0.10 - ETA: 19:29 - loss: 2.3020 - acc: 0.10 - ETA: 19:28 - loss: 2.3020 - acc: 0.10 - ETA: 19:27 - loss: 2.3020 - acc: 0.10 - ETA: 19:25 - loss: 2.3020 - acc: 0.10 - ETA: 19:24 - loss: 2.3021 - acc: 0.10 - ETA: 19:24 - loss: 2.3021 - acc: 0.10 - ETA: 19:23 - loss: 2.3020 - acc: 0.10 - ETA: 19:21 - loss: 2.3020 - acc: 0.10 - ETA: 19:20 - loss: 2.3020 - acc: 0.10 - ETA: 19:19 - loss: 2.3020 - acc: 0.10 - ETA: 19:17 - loss: 2.3020 - acc: 0.10 - ETA: 19:15 - loss: 2.3020 - acc: 0.10 - ETA: 19:13 - loss: 2.3020 - acc: 0.10 - ETA: 19:12 - loss: 2.3020 - acc: 0.10 - ETA: 19:09 - loss: 2.3019 - acc: 0.11 - ETA: 19:09 - loss: 2.3019 - acc: 0.11 - ETA: 19:10 - loss: 2.3019 - acc: 0.11 - ETA: 19:08 - loss: 2.3019 - acc: 0.11 - ETA: 19:07 - loss: 2.3020 - acc: 0.1099"
     ]
    },
    {
     "ename": "KeyboardInterrupt",
     "evalue": "",
     "output_type": "error",
     "traceback": [
      "\u001b[1;31m---------------------------------------------------------------------------\u001b[0m",
      "\u001b[1;31mKeyboardInterrupt\u001b[0m                         Traceback (most recent call last)",
      "\u001b[1;32m<ipython-input-17-325700916190>\u001b[0m in \u001b[0;36m<module>\u001b[1;34m()\u001b[0m\n\u001b[0;32m     48\u001b[0m           \u001b[0mepochs\u001b[0m\u001b[1;33m=\u001b[0m\u001b[0mepochs\u001b[0m\u001b[1;33m,\u001b[0m\u001b[1;33m\u001b[0m\u001b[0m\n\u001b[0;32m     49\u001b[0m           \u001b[0mverbose\u001b[0m\u001b[1;33m=\u001b[0m\u001b[1;36m1\u001b[0m\u001b[1;33m,\u001b[0m\u001b[1;33m\u001b[0m\u001b[0m\n\u001b[1;32m---> 50\u001b[1;33m           validation_data=(x_test, y_test))\n\u001b[0m\u001b[0;32m     51\u001b[0m \u001b[0mscore\u001b[0m \u001b[1;33m=\u001b[0m \u001b[0mmodel\u001b[0m\u001b[1;33m.\u001b[0m\u001b[0mevaluate\u001b[0m\u001b[1;33m(\u001b[0m\u001b[0mx_test\u001b[0m\u001b[1;33m,\u001b[0m \u001b[0my_test\u001b[0m\u001b[1;33m,\u001b[0m \u001b[0mverbose\u001b[0m\u001b[1;33m=\u001b[0m\u001b[1;36m0\u001b[0m\u001b[1;33m)\u001b[0m\u001b[1;33m\u001b[0m\u001b[0m\n\u001b[0;32m     52\u001b[0m \u001b[0mprint\u001b[0m\u001b[1;33m(\u001b[0m\u001b[1;34m'Test loss:'\u001b[0m\u001b[1;33m,\u001b[0m \u001b[0mscore\u001b[0m\u001b[1;33m[\u001b[0m\u001b[1;36m0\u001b[0m\u001b[1;33m]\u001b[0m\u001b[1;33m)\u001b[0m\u001b[1;33m\u001b[0m\u001b[0m\n",
      "\u001b[1;32m~\\Anaconda2\\envs\\py36\\lib\\site-packages\\keras\\engine\\training.py\u001b[0m in \u001b[0;36mfit\u001b[1;34m(self, x, y, batch_size, epochs, verbose, callbacks, validation_split, validation_data, shuffle, class_weight, sample_weight, initial_epoch, steps_per_epoch, validation_steps, **kwargs)\u001b[0m\n\u001b[0;32m   1037\u001b[0m                                         \u001b[0minitial_epoch\u001b[0m\u001b[1;33m=\u001b[0m\u001b[0minitial_epoch\u001b[0m\u001b[1;33m,\u001b[0m\u001b[1;33m\u001b[0m\u001b[0m\n\u001b[0;32m   1038\u001b[0m                                         \u001b[0msteps_per_epoch\u001b[0m\u001b[1;33m=\u001b[0m\u001b[0msteps_per_epoch\u001b[0m\u001b[1;33m,\u001b[0m\u001b[1;33m\u001b[0m\u001b[0m\n\u001b[1;32m-> 1039\u001b[1;33m                                         validation_steps=validation_steps)\n\u001b[0m\u001b[0;32m   1040\u001b[0m \u001b[1;33m\u001b[0m\u001b[0m\n\u001b[0;32m   1041\u001b[0m     def evaluate(self, x=None, y=None,\n",
      "\u001b[1;32m~\\Anaconda2\\envs\\py36\\lib\\site-packages\\keras\\engine\\training_arrays.py\u001b[0m in \u001b[0;36mfit_loop\u001b[1;34m(model, f, ins, out_labels, batch_size, epochs, verbose, callbacks, val_f, val_ins, shuffle, callback_metrics, initial_epoch, steps_per_epoch, validation_steps)\u001b[0m\n\u001b[0;32m    197\u001b[0m                     \u001b[0mins_batch\u001b[0m\u001b[1;33m[\u001b[0m\u001b[0mi\u001b[0m\u001b[1;33m]\u001b[0m \u001b[1;33m=\u001b[0m \u001b[0mins_batch\u001b[0m\u001b[1;33m[\u001b[0m\u001b[0mi\u001b[0m\u001b[1;33m]\u001b[0m\u001b[1;33m.\u001b[0m\u001b[0mtoarray\u001b[0m\u001b[1;33m(\u001b[0m\u001b[1;33m)\u001b[0m\u001b[1;33m\u001b[0m\u001b[0m\n\u001b[0;32m    198\u001b[0m \u001b[1;33m\u001b[0m\u001b[0m\n\u001b[1;32m--> 199\u001b[1;33m                 \u001b[0mouts\u001b[0m \u001b[1;33m=\u001b[0m \u001b[0mf\u001b[0m\u001b[1;33m(\u001b[0m\u001b[0mins_batch\u001b[0m\u001b[1;33m)\u001b[0m\u001b[1;33m\u001b[0m\u001b[0m\n\u001b[0m\u001b[0;32m    200\u001b[0m                 \u001b[0mouts\u001b[0m \u001b[1;33m=\u001b[0m \u001b[0mto_list\u001b[0m\u001b[1;33m(\u001b[0m\u001b[0mouts\u001b[0m\u001b[1;33m)\u001b[0m\u001b[1;33m\u001b[0m\u001b[0m\n\u001b[0;32m    201\u001b[0m                 \u001b[1;32mfor\u001b[0m \u001b[0ml\u001b[0m\u001b[1;33m,\u001b[0m \u001b[0mo\u001b[0m \u001b[1;32min\u001b[0m \u001b[0mzip\u001b[0m\u001b[1;33m(\u001b[0m\u001b[0mout_labels\u001b[0m\u001b[1;33m,\u001b[0m \u001b[0mouts\u001b[0m\u001b[1;33m)\u001b[0m\u001b[1;33m:\u001b[0m\u001b[1;33m\u001b[0m\u001b[0m\n",
      "\u001b[1;32m~\\Anaconda2\\envs\\py36\\lib\\site-packages\\keras\\backend\\tensorflow_backend.py\u001b[0m in \u001b[0;36m__call__\u001b[1;34m(self, inputs)\u001b[0m\n\u001b[0;32m   2713\u001b[0m                 \u001b[1;32mreturn\u001b[0m \u001b[0mself\u001b[0m\u001b[1;33m.\u001b[0m\u001b[0m_legacy_call\u001b[0m\u001b[1;33m(\u001b[0m\u001b[0minputs\u001b[0m\u001b[1;33m)\u001b[0m\u001b[1;33m\u001b[0m\u001b[0m\n\u001b[0;32m   2714\u001b[0m \u001b[1;33m\u001b[0m\u001b[0m\n\u001b[1;32m-> 2715\u001b[1;33m             \u001b[1;32mreturn\u001b[0m \u001b[0mself\u001b[0m\u001b[1;33m.\u001b[0m\u001b[0m_call\u001b[0m\u001b[1;33m(\u001b[0m\u001b[0minputs\u001b[0m\u001b[1;33m)\u001b[0m\u001b[1;33m\u001b[0m\u001b[0m\n\u001b[0m\u001b[0;32m   2716\u001b[0m         \u001b[1;32melse\u001b[0m\u001b[1;33m:\u001b[0m\u001b[1;33m\u001b[0m\u001b[0m\n\u001b[0;32m   2717\u001b[0m             \u001b[1;32mif\u001b[0m \u001b[0mpy_any\u001b[0m\u001b[1;33m(\u001b[0m\u001b[0mis_tensor\u001b[0m\u001b[1;33m(\u001b[0m\u001b[0mx\u001b[0m\u001b[1;33m)\u001b[0m \u001b[1;32mfor\u001b[0m \u001b[0mx\u001b[0m \u001b[1;32min\u001b[0m \u001b[0minputs\u001b[0m\u001b[1;33m)\u001b[0m\u001b[1;33m:\u001b[0m\u001b[1;33m\u001b[0m\u001b[0m\n",
      "\u001b[1;32m~\\Anaconda2\\envs\\py36\\lib\\site-packages\\keras\\backend\\tensorflow_backend.py\u001b[0m in \u001b[0;36m_call\u001b[1;34m(self, inputs)\u001b[0m\n\u001b[0;32m   2673\u001b[0m             \u001b[0mfetched\u001b[0m \u001b[1;33m=\u001b[0m \u001b[0mself\u001b[0m\u001b[1;33m.\u001b[0m\u001b[0m_callable_fn\u001b[0m\u001b[1;33m(\u001b[0m\u001b[1;33m*\u001b[0m\u001b[0marray_vals\u001b[0m\u001b[1;33m,\u001b[0m \u001b[0mrun_metadata\u001b[0m\u001b[1;33m=\u001b[0m\u001b[0mself\u001b[0m\u001b[1;33m.\u001b[0m\u001b[0mrun_metadata\u001b[0m\u001b[1;33m)\u001b[0m\u001b[1;33m\u001b[0m\u001b[0m\n\u001b[0;32m   2674\u001b[0m         \u001b[1;32melse\u001b[0m\u001b[1;33m:\u001b[0m\u001b[1;33m\u001b[0m\u001b[0m\n\u001b[1;32m-> 2675\u001b[1;33m             \u001b[0mfetched\u001b[0m \u001b[1;33m=\u001b[0m \u001b[0mself\u001b[0m\u001b[1;33m.\u001b[0m\u001b[0m_callable_fn\u001b[0m\u001b[1;33m(\u001b[0m\u001b[1;33m*\u001b[0m\u001b[0marray_vals\u001b[0m\u001b[1;33m)\u001b[0m\u001b[1;33m\u001b[0m\u001b[0m\n\u001b[0m\u001b[0;32m   2676\u001b[0m         \u001b[1;32mreturn\u001b[0m \u001b[0mfetched\u001b[0m\u001b[1;33m[\u001b[0m\u001b[1;33m:\u001b[0m\u001b[0mlen\u001b[0m\u001b[1;33m(\u001b[0m\u001b[0mself\u001b[0m\u001b[1;33m.\u001b[0m\u001b[0moutputs\u001b[0m\u001b[1;33m)\u001b[0m\u001b[1;33m]\u001b[0m\u001b[1;33m\u001b[0m\u001b[0m\n\u001b[0;32m   2677\u001b[0m \u001b[1;33m\u001b[0m\u001b[0m\n",
      "\u001b[1;32m~\\Anaconda2\\envs\\py36\\lib\\site-packages\\tensorflow\\python\\client\\session.py\u001b[0m in \u001b[0;36m__call__\u001b[1;34m(self, *args)\u001b[0m\n\u001b[0;32m   1449\u001b[0m         \u001b[1;32mif\u001b[0m \u001b[0mself\u001b[0m\u001b[1;33m.\u001b[0m\u001b[0m_session\u001b[0m\u001b[1;33m.\u001b[0m\u001b[0m_created_with_new_api\u001b[0m\u001b[1;33m:\u001b[0m\u001b[1;33m\u001b[0m\u001b[0m\n\u001b[0;32m   1450\u001b[0m           return tf_session.TF_SessionRunCallable(\n\u001b[1;32m-> 1451\u001b[1;33m               self._session._session, self._handle, args, status, None)\n\u001b[0m\u001b[0;32m   1452\u001b[0m         \u001b[1;32melse\u001b[0m\u001b[1;33m:\u001b[0m\u001b[1;33m\u001b[0m\u001b[0m\n\u001b[0;32m   1453\u001b[0m           return tf_session.TF_DeprecatedSessionRunCallable(\n",
      "\u001b[1;31mKeyboardInterrupt\u001b[0m: "
     ]
    }
   ],
   "source": [
    "batch_size = 128\n",
    "num_classes = 10\n",
    "epochs = 12\n",
    "\n",
    "# input image dimensions\n",
    "img_rows, img_cols = 28, 28\n",
    "\n",
    "if K.image_data_format() == 'channels_first':\n",
    "    x_train = x_train.reshape(x_train.shape[0], 1, img_rows, img_cols)\n",
    "    x_test = x_test.reshape(x_test.shape[0], 1, img_rows, img_cols)\n",
    "    input_shape = (1, img_rows, img_cols)\n",
    "else:\n",
    "    x_train = x_train.reshape(x_train.shape[0], img_rows, img_cols, 1)\n",
    "    x_test = x_test.reshape(x_test.shape[0], img_rows, img_cols, 1)\n",
    "    input_shape = (img_rows, img_cols, 1)\n",
    "\n",
    "x_train = x_train.astype('float32')\n",
    "x_test = x_test.astype('float32')\n",
    "x_train /= 255\n",
    "x_test /= 255\n",
    "print('x_train shape:', x_train.shape)\n",
    "print(x_train.shape[0], 'train samples')\n",
    "print(x_test.shape[0], 'test samples')\n",
    "\n",
    "# convert class vectors to binary class matrices\n",
    "y_train = keras.utils.to_categorical(y_train, num_classes)\n",
    "y_test = keras.utils.to_categorical(y_test, num_classes)\n",
    "\n",
    "model = Sequential()\n",
    "model.add(Conv2D(32, kernel_size=(3, 3),\n",
    "                 activation='relu',\n",
    "                 input_shape=input_shape))\n",
    "model.add(Conv2D(64, (3, 3), activation='relu'))\n",
    "model.add(MaxPooling2D(pool_size=(2, 2)))\n",
    "model.add(Dropout(0.25))\n",
    "model.add(Flatten())\n",
    "model.add(Dense(128, activation='relu'))\n",
    "model.add(Dropout(0.5))\n",
    "model.add(Dense(num_classes, activation='softmax'))\n",
    "\n",
    "model.compile(loss=keras.losses.categorical_crossentropy,\n",
    "              optimizer=keras.optimizers.Adadelta(),\n",
    "              metrics=['accuracy'])\n",
    "\n",
    "model.fit(x_train, y_train,\n",
    "          batch_size=batch_size,\n",
    "          epochs=epochs,\n",
    "          verbose=1,\n",
    "          validation_data=(x_test, y_test))\n",
    "score = model.evaluate(x_test, y_test, verbose=0)\n",
    "print('Test loss:', score[0])\n",
    "print('Test accuracy:', score[1])"
   ]
  },
  {
   "cell_type": "code",
   "execution_count": null,
   "metadata": {},
   "outputs": [],
   "source": []
  }
 ],
 "metadata": {
  "kernelspec": {
   "display_name": "Python (py36)",
   "language": "python",
   "name": "py36"
  },
  "language_info": {
   "codemirror_mode": {
    "name": "ipython",
    "version": 3
   },
   "file_extension": ".py",
   "mimetype": "text/x-python",
   "name": "python",
   "nbconvert_exporter": "python",
   "pygments_lexer": "ipython3",
   "version": "3.6.6"
  }
 },
 "nbformat": 4,
 "nbformat_minor": 2
}
